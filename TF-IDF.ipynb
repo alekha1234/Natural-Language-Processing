{
 "cells": [
  {
   "cell_type": "markdown",
   "id": "43597784-380a-4b4c-9e84-a34e4d12214f",
   "metadata": {},
   "source": [
    "# TF-IDF (Term Frequency – Inverse Document Frequency)"
   ]
  },
  {
   "cell_type": "markdown",
   "id": "edb2d529-ae9f-448e-a6c2-f969e2077cfd",
   "metadata": {},
   "source": [
    "<h3>TF-IDF (Term Frequency-Inverse Document Frequency) is a statistical measure used to evaluate the importance of a word in a document relative to a collection of documents (corpus). The importance increases proportionally to the number of times a word appears in the document but is offset by the frequency of the word in the corpus.</h3>"
   ]
  },
  {
   "cell_type": "markdown",
   "id": "147ccc3f-6b3f-4976-a509-5458819695a8",
   "metadata": {},
   "source": [
    "### Detailed Explanation:\n",
    "\n",
    "- **Term Frequency (TF):** Measures how frequently a term occurs in a document. It is the ratio of the number of times a term appears in a document to the total number of terms in the document.\n",
    "  \n",
    "$$\n",
    "\\text{TF}(t,d) = \\frac{\\text{Number of times term } t \\text{ appears in document } d}{\\text{Total number of terms in document } d}\n",
    "$$\n",
    "  \n",
    "\n",
    "- **Inverse Document Frequency (IDF):** Measures how important a term is. While computing TF, all terms are considered equally important. However, certain terms like \"is\", \"of\", and \"that\" may appear frequently but have little importance. Thus, we need to weigh down the frequent terms while scaling up the rare ones.\n",
    "\n",
    "$$\n",
    "\\text{IDF}(t) = \\log \\left(\\frac{\\text{Total number of documents}}{\\text{Number of documents with term } t}\\right)\n",
    "$$\n",
    "\n",
    "- **TF-IDF:** The TF-IDF score is the product of TF and IDF scores. This score helps to identify words that are important to a document but not to other documents.\n",
    "\n",
    "$$\n",
    "\\text{TF-IDF}(t, d) = \\text{TF}(t, d) \\times \\text{IDF}(t)\n",
    "$$\n",
    "\n",
    "### Advantages of TF-IDF:\n",
    "\n",
    "- **Simple and Effective:** Easy to implement and understand.\n",
    "- **Captures Importance:** Balances term frequency with inverse document frequency to highlight important words.\n",
    "- **Sparse Representation:** Efficient for large datasets due to sparse matrix representation.\n",
    "\n",
    "### Disadvantages of TF-IDF:\n",
    "\n",
    "- **Ignores Semantics:** Does not capture the semantic meaning of words.\n",
    "- **Context Insensitivity:** Treats words independently, ignoring context and word order.\n",
    "- **Sparse Representation:** Can be memory-intensive for very large vocabularies."
   ]
  },
  {
   "cell_type": "markdown",
   "id": "35d398b3-58a1-45a4-a81c-a3d1d210b61d",
   "metadata": {},
   "source": [
    " "
   ]
  },
  {
   "cell_type": "code",
   "execution_count": 1,
   "id": "3261173a-7f94-4d6d-9441-f42a9c9f022b",
   "metadata": {},
   "outputs": [],
   "source": [
    "# import requirments\n",
    "\n",
    "import numpy as np\n",
    "import pandas as pd\n",
    "\n",
    "from sklearn.feature_extraction.text import TfidfVectorizer"
   ]
  },
  {
   "cell_type": "code",
   "execution_count": 2,
   "id": "7c1d4203-87f9-43be-9a1a-617dc8c0ce1b",
   "metadata": {},
   "outputs": [
    {
     "data": {
      "text/plain": [
       "['The cat sat on the mat.',\n",
       " 'The dog barked at the cat.',\n",
       " 'The cat and the dog are friends.',\n",
       " 'Birds can fly high in the sky.']"
      ]
     },
     "execution_count": 2,
     "metadata": {},
     "output_type": "execute_result"
    }
   ],
   "source": [
    "# Define the sentences\n",
    "sentences = [\n",
    "    \"The cat sat on the mat.\",\n",
    "    \"The dog barked at the cat.\",\n",
    "    \"The cat and the dog are friends.\",\n",
    "    \"Birds can fly high in the sky.\"\n",
    "]\n",
    "\n",
    "sentences"
   ]
  },
  {
   "cell_type": "code",
   "execution_count": 3,
   "id": "e21f9379-bcdd-4643-a7ac-ba089f41ee1e",
   "metadata": {},
   "outputs": [],
   "source": [
    "# clean text if necessary"
   ]
  },
  {
   "cell_type": "code",
   "execution_count": 4,
   "id": "b9f1e8e5-f711-430a-9cbb-28e699eee134",
   "metadata": {},
   "outputs": [],
   "source": [
    "# Create an instance of TfidfVectorizer\n",
    "vectorizer = TfidfVectorizer()\n",
    "# Fit and transform the documents to get the TF-IDF representation\n",
    "tfidf = vectorizer.fit_transform(sentences)"
   ]
  },
  {
   "cell_type": "code",
   "execution_count": 5,
   "id": "999ebd46-fb0e-41b3-be94-32dc8bc76f99",
   "metadata": {},
   "outputs": [
    {
     "name": "stdout",
     "output_type": "stream",
     "text": [
      "['and', 'are', 'at', 'barked', 'birds', 'can', 'cat', 'dog', 'fly', 'friends', 'high', 'in', 'mat', 'on', 'sat', 'sky', 'the']\n"
     ]
    }
   ],
   "source": [
    "# create a vocabulary of unique words and sort them\n",
    "\n",
    "vocabulary = sorted(vectorizer.vocabulary_)\n",
    "print(vocabulary)"
   ]
  },
  {
   "cell_type": "code",
   "execution_count": 6,
   "id": "1a8fa632-a56a-4131-8f0e-e9b39ac20f07",
   "metadata": {},
   "outputs": [
    {
     "data": {
      "text/plain": [
       "array([[0.  , 0.  , 0.  , 0.  , 0.  , 0.  , 0.3 , 0.  , 0.  , 0.  , 0.  ,\n",
       "        0.  , 0.47, 0.47, 0.47, 0.  , 0.49],\n",
       "       [0.  , 0.  , 0.49, 0.49, 0.  , 0.  , 0.31, 0.39, 0.  , 0.  , 0.  ,\n",
       "        0.  , 0.  , 0.  , 0.  , 0.  , 0.51],\n",
       "       [0.44, 0.44, 0.  , 0.  , 0.  , 0.  , 0.28, 0.35, 0.  , 0.44, 0.  ,\n",
       "        0.  , 0.  , 0.  , 0.  , 0.  , 0.46],\n",
       "       [0.  , 0.  , 0.  , 0.  , 0.4 , 0.4 , 0.  , 0.  , 0.4 , 0.  , 0.4 ,\n",
       "        0.4 , 0.  , 0.  , 0.  , 0.4 , 0.21]])"
      ]
     },
     "execution_count": 6,
     "metadata": {},
     "output_type": "execute_result"
    }
   ],
   "source": [
    "# create a matrix of the words wrt sentence\n",
    "\n",
    "tfidf_mattrix = tfidf.toarray()\n",
    "tfidf_mattrix = np.round(tfidf_mattrix, 2)  # toget upto 2 decimal number\n",
    "tfidf_mattrix"
   ]
  },
  {
   "cell_type": "code",
   "execution_count": 7,
   "id": "8b74479b-e0a3-4778-85f8-3c24e7ada9a4",
   "metadata": {},
   "outputs": [
    {
     "data": {
      "text/html": [
       "<div>\n",
       "<style scoped>\n",
       "    .dataframe tbody tr th:only-of-type {\n",
       "        vertical-align: middle;\n",
       "    }\n",
       "\n",
       "    .dataframe tbody tr th {\n",
       "        vertical-align: top;\n",
       "    }\n",
       "\n",
       "    .dataframe thead th {\n",
       "        text-align: right;\n",
       "    }\n",
       "</style>\n",
       "<table border=\"1\" class=\"dataframe\">\n",
       "  <thead>\n",
       "    <tr style=\"text-align: right;\">\n",
       "      <th></th>\n",
       "      <th>and</th>\n",
       "      <th>are</th>\n",
       "      <th>at</th>\n",
       "      <th>barked</th>\n",
       "      <th>birds</th>\n",
       "      <th>can</th>\n",
       "      <th>cat</th>\n",
       "      <th>dog</th>\n",
       "      <th>fly</th>\n",
       "      <th>friends</th>\n",
       "      <th>high</th>\n",
       "      <th>in</th>\n",
       "      <th>mat</th>\n",
       "      <th>on</th>\n",
       "      <th>sat</th>\n",
       "      <th>sky</th>\n",
       "      <th>the</th>\n",
       "    </tr>\n",
       "  </thead>\n",
       "  <tbody>\n",
       "    <tr>\n",
       "      <th>The cat sat on the mat.</th>\n",
       "      <td>0.00</td>\n",
       "      <td>0.00</td>\n",
       "      <td>0.00</td>\n",
       "      <td>0.00</td>\n",
       "      <td>0.0</td>\n",
       "      <td>0.0</td>\n",
       "      <td>0.30</td>\n",
       "      <td>0.00</td>\n",
       "      <td>0.0</td>\n",
       "      <td>0.00</td>\n",
       "      <td>0.0</td>\n",
       "      <td>0.0</td>\n",
       "      <td>0.47</td>\n",
       "      <td>0.47</td>\n",
       "      <td>0.47</td>\n",
       "      <td>0.0</td>\n",
       "      <td>0.49</td>\n",
       "    </tr>\n",
       "    <tr>\n",
       "      <th>The dog barked at the cat.</th>\n",
       "      <td>0.00</td>\n",
       "      <td>0.00</td>\n",
       "      <td>0.49</td>\n",
       "      <td>0.49</td>\n",
       "      <td>0.0</td>\n",
       "      <td>0.0</td>\n",
       "      <td>0.31</td>\n",
       "      <td>0.39</td>\n",
       "      <td>0.0</td>\n",
       "      <td>0.00</td>\n",
       "      <td>0.0</td>\n",
       "      <td>0.0</td>\n",
       "      <td>0.00</td>\n",
       "      <td>0.00</td>\n",
       "      <td>0.00</td>\n",
       "      <td>0.0</td>\n",
       "      <td>0.51</td>\n",
       "    </tr>\n",
       "    <tr>\n",
       "      <th>The cat and the dog are friends.</th>\n",
       "      <td>0.44</td>\n",
       "      <td>0.44</td>\n",
       "      <td>0.00</td>\n",
       "      <td>0.00</td>\n",
       "      <td>0.0</td>\n",
       "      <td>0.0</td>\n",
       "      <td>0.28</td>\n",
       "      <td>0.35</td>\n",
       "      <td>0.0</td>\n",
       "      <td>0.44</td>\n",
       "      <td>0.0</td>\n",
       "      <td>0.0</td>\n",
       "      <td>0.00</td>\n",
       "      <td>0.00</td>\n",
       "      <td>0.00</td>\n",
       "      <td>0.0</td>\n",
       "      <td>0.46</td>\n",
       "    </tr>\n",
       "    <tr>\n",
       "      <th>Birds can fly high in the sky.</th>\n",
       "      <td>0.00</td>\n",
       "      <td>0.00</td>\n",
       "      <td>0.00</td>\n",
       "      <td>0.00</td>\n",
       "      <td>0.4</td>\n",
       "      <td>0.4</td>\n",
       "      <td>0.00</td>\n",
       "      <td>0.00</td>\n",
       "      <td>0.4</td>\n",
       "      <td>0.00</td>\n",
       "      <td>0.4</td>\n",
       "      <td>0.4</td>\n",
       "      <td>0.00</td>\n",
       "      <td>0.00</td>\n",
       "      <td>0.00</td>\n",
       "      <td>0.4</td>\n",
       "      <td>0.21</td>\n",
       "    </tr>\n",
       "  </tbody>\n",
       "</table>\n",
       "</div>"
      ],
      "text/plain": [
       "                                   and   are    at  barked  birds  can   cat  \\\n",
       "The cat sat on the mat.           0.00  0.00  0.00    0.00    0.0  0.0  0.30   \n",
       "The dog barked at the cat.        0.00  0.00  0.49    0.49    0.0  0.0  0.31   \n",
       "The cat and the dog are friends.  0.44  0.44  0.00    0.00    0.0  0.0  0.28   \n",
       "Birds can fly high in the sky.    0.00  0.00  0.00    0.00    0.4  0.4  0.00   \n",
       "\n",
       "                                   dog  fly  friends  high   in   mat    on  \\\n",
       "The cat sat on the mat.           0.00  0.0     0.00   0.0  0.0  0.47  0.47   \n",
       "The dog barked at the cat.        0.39  0.0     0.00   0.0  0.0  0.00  0.00   \n",
       "The cat and the dog are friends.  0.35  0.0     0.44   0.0  0.0  0.00  0.00   \n",
       "Birds can fly high in the sky.    0.00  0.4     0.00   0.4  0.4  0.00  0.00   \n",
       "\n",
       "                                   sat  sky   the  \n",
       "The cat sat on the mat.           0.47  0.0  0.49  \n",
       "The dog barked at the cat.        0.00  0.0  0.51  \n",
       "The cat and the dog are friends.  0.00  0.0  0.46  \n",
       "Birds can fly high in the sky.    0.00  0.4  0.21  "
      ]
     },
     "execution_count": 7,
     "metadata": {},
     "output_type": "execute_result"
    }
   ],
   "source": [
    "# create a dataframe for better understanding the importance of a feature in a sentence\n",
    "\n",
    "pd.DataFrame(tfidf_mattrix , index=sentences , columns=vocabulary)"
   ]
  },
  {
   "cell_type": "markdown",
   "id": "b6c32f39-8bfb-48b0-9bde-753c5b855c1f",
   "metadata": {},
   "source": [
    " "
   ]
  },
  {
   "cell_type": "markdown",
   "id": "db87a065-b60b-4f93-8d20-25620e665e0a",
   "metadata": {},
   "source": [
    " "
   ]
  },
  {
   "cell_type": "markdown",
   "id": "1d5a10e2-fbe2-4102-9bd6-3b1363854deb",
   "metadata": {},
   "source": [
    "                     ____________________________________ End ____________________________________"
   ]
  }
 ],
 "metadata": {
  "kernelspec": {
   "display_name": "Python 3 (ipykernel)",
   "language": "python",
   "name": "python3"
  },
  "language_info": {
   "codemirror_mode": {
    "name": "ipython",
    "version": 3
   },
   "file_extension": ".py",
   "mimetype": "text/x-python",
   "name": "python",
   "nbconvert_exporter": "python",
   "pygments_lexer": "ipython3",
   "version": "3.12.4"
  },
  "widgets": {
   "application/vnd.jupyter.widget-state+json": {
    "state": {},
    "version_major": 2,
    "version_minor": 0
   }
  }
 },
 "nbformat": 4,
 "nbformat_minor": 5
}

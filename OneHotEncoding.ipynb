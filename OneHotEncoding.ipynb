{
 "cells": [
  {
   "cell_type": "markdown",
   "id": "7e0a4b2d-8b43-4807-b954-72ed4992457f",
   "metadata": {},
   "source": [
    "<h1 style=\"color:DodgerBlue; text-align:center; font-weight:bold; font-size:50px; background-color:lightblue; padding:20px 20px\">One-Hot Encoding Representation of Text</h1>"
   ]
  },
  {
   "cell_type": "code",
   "execution_count": 1,
   "id": "f6b0434d-43cb-4a95-a947-001e63f8083b",
   "metadata": {},
   "outputs": [],
   "source": [
    "# import requirments\n",
    "\n",
    "import numpy as np\n",
    "import pandas as pd\n",
    "\n",
    "import string\n",
    "from nltk.tokenize import word_tokenize"
   ]
  },
  {
   "cell_type": "code",
   "execution_count": 2,
   "id": "cfb02f80-9e33-4963-9b4b-6fd52b8cccda",
   "metadata": {},
   "outputs": [
    {
     "data": {
      "text/plain": [
       "['The cat sat on the mat.',\n",
       " 'The dog barked at the cat.',\n",
       " 'The cat and the dog are friends.',\n",
       " 'Birds can fly high in the sky.']"
      ]
     },
     "execution_count": 2,
     "metadata": {},
     "output_type": "execute_result"
    }
   ],
   "source": [
    "# load data or list of string\n",
    "sentences = [\n",
    "    \"The cat sat on the mat.\",\n",
    "    \"The dog barked at the cat.\",\n",
    "    \"The cat and the dog are friends.\",\n",
    "    \"Birds can fly high in the sky.\"\n",
    "]\n",
    "\n",
    "sentences"
   ]
  },
  {
   "cell_type": "markdown",
   "id": "1da65008-2601-4ef5-8595-2aae71c761cd",
   "metadata": {},
   "source": [
    "```python\n",
    "\n",
    "# Tokenize, normalize to lower case, and remove punctuation\n",
    "import string\n",
    "tokens = [\n",
    "    [word for word in word_tokenize(sentence.lower()) if word not in string.punctuation]\n",
    "    for sentence in sentences\n",
    "]\n",
    "tokens"
   ]
  },
  {
   "cell_type": "code",
   "execution_count": 3,
   "id": "8bcd2e0b-24dc-4b55-bd2b-90553590ad91",
   "metadata": {},
   "outputs": [
    {
     "data": {
      "text/plain": [
       "[['the', 'cat', 'sat', 'on', 'the', 'mat'],\n",
       " ['the', 'dog', 'barked', 'at', 'the', 'cat'],\n",
       " ['the', 'cat', 'and', 'the', 'dog', 'are', 'friends'],\n",
       " ['birds', 'can', 'fly', 'high', 'in', 'the', 'sky']]"
      ]
     },
     "execution_count": 3,
     "metadata": {},
     "output_type": "execute_result"
    }
   ],
   "source": [
    "# convert the sentence list into tokens\n",
    "sentence_tokens = [\n",
    "    [word for word in word_tokenize(sentence.lower()) if word not in string.punctuation]\n",
    "    for sentence in sentences\n",
    "]\n",
    "\n",
    "sentence_tokens"
   ]
  },
  {
   "cell_type": "code",
   "execution_count": 4,
   "id": "cd5f6544-4ec2-438d-9695-358c37992c78",
   "metadata": {},
   "outputs": [
    {
     "name": "stdout",
     "output_type": "stream",
     "text": [
      "['and', 'are', 'at', 'barked', 'birds', 'can', 'cat', 'dog', 'fly', 'friends', 'high', 'in', 'mat', 'on', 'sat', 'sky', 'the']\n"
     ]
    }
   ],
   "source": [
    "# get all unique word list\n",
    "\n",
    "unique_words = sorted(set([word for sent in sentence_tokens for word in sent]))\n",
    "print(unique_words)"
   ]
  },
  {
   "cell_type": "code",
   "execution_count": 5,
   "id": "b8a96f7c-6594-44a7-ab1a-49bea0d46f6c",
   "metadata": {},
   "outputs": [
    {
     "data": {
      "text/plain": [
       "{'and': 0,\n",
       " 'are': 1,\n",
       " 'at': 2,\n",
       " 'barked': 3,\n",
       " 'birds': 4,\n",
       " 'can': 5,\n",
       " 'cat': 6,\n",
       " 'dog': 7,\n",
       " 'fly': 8,\n",
       " 'friends': 9,\n",
       " 'high': 10,\n",
       " 'in': 11,\n",
       " 'mat': 12,\n",
       " 'on': 13,\n",
       " 'sat': 14,\n",
       " 'sky': 15,\n",
       " 'the': 16}"
      ]
     },
     "execution_count": 5,
     "metadata": {},
     "output_type": "execute_result"
    }
   ],
   "source": [
    "# unique word to an index\n",
    "word_to_index = {}\n",
    "for i, word in enumerate(unique_words):\n",
    "    word_to_index[word] = i\n",
    "\n",
    "word_to_index"
   ]
  },
  {
   "cell_type": "code",
   "execution_count": 6,
   "id": "3b7551d2-dc73-4b50-b2d8-5278b87cdf8f",
   "metadata": {},
   "outputs": [
    {
     "data": {
      "text/plain": [
       "[array([0, 0, 0, 0, 0, 0, 1, 0, 0, 0, 0, 0, 1, 1, 1, 0, 1]),\n",
       " array([0, 0, 1, 1, 0, 0, 1, 1, 0, 0, 0, 0, 0, 0, 0, 0, 1]),\n",
       " array([1, 1, 0, 0, 0, 0, 1, 1, 0, 1, 0, 0, 0, 0, 0, 0, 1]),\n",
       " array([0, 0, 0, 0, 1, 1, 0, 0, 1, 0, 1, 1, 0, 0, 0, 1, 1])]"
      ]
     },
     "execution_count": 6,
     "metadata": {},
     "output_type": "execute_result"
    }
   ],
   "source": [
    "# Create the one-hot encoded representation\n",
    "one_hot_encoded = []\n",
    "for sent in sentence_tokens:\n",
    "    one_hot_vector = np.zeros(len(unique_words) ,dtype='int')\n",
    "    for word in sent:\n",
    "        if word in word_to_index:\n",
    "            one_hot_vector[word_to_index[word]] = 1\n",
    "    one_hot_encoded.append(one_hot_vector)\n",
    "\n",
    "one_hot_encoded"
   ]
  },
  {
   "cell_type": "code",
   "execution_count": 7,
   "id": "d2c454d0-080d-4fcf-936e-6c111b379c34",
   "metadata": {},
   "outputs": [
    {
     "data": {
      "text/html": [
       "<div>\n",
       "<style scoped>\n",
       "    .dataframe tbody tr th:only-of-type {\n",
       "        vertical-align: middle;\n",
       "    }\n",
       "\n",
       "    .dataframe tbody tr th {\n",
       "        vertical-align: top;\n",
       "    }\n",
       "\n",
       "    .dataframe thead th {\n",
       "        text-align: right;\n",
       "    }\n",
       "</style>\n",
       "<table border=\"1\" class=\"dataframe\">\n",
       "  <thead>\n",
       "    <tr style=\"text-align: right;\">\n",
       "      <th></th>\n",
       "      <th>and</th>\n",
       "      <th>are</th>\n",
       "      <th>at</th>\n",
       "      <th>barked</th>\n",
       "      <th>birds</th>\n",
       "      <th>can</th>\n",
       "      <th>cat</th>\n",
       "      <th>dog</th>\n",
       "      <th>fly</th>\n",
       "      <th>friends</th>\n",
       "      <th>high</th>\n",
       "      <th>in</th>\n",
       "      <th>mat</th>\n",
       "      <th>on</th>\n",
       "      <th>sat</th>\n",
       "      <th>sky</th>\n",
       "      <th>the</th>\n",
       "    </tr>\n",
       "  </thead>\n",
       "  <tbody>\n",
       "    <tr>\n",
       "      <th>The cat sat on the mat.</th>\n",
       "      <td>0</td>\n",
       "      <td>0</td>\n",
       "      <td>0</td>\n",
       "      <td>0</td>\n",
       "      <td>0</td>\n",
       "      <td>0</td>\n",
       "      <td>1</td>\n",
       "      <td>0</td>\n",
       "      <td>0</td>\n",
       "      <td>0</td>\n",
       "      <td>0</td>\n",
       "      <td>0</td>\n",
       "      <td>1</td>\n",
       "      <td>1</td>\n",
       "      <td>1</td>\n",
       "      <td>0</td>\n",
       "      <td>1</td>\n",
       "    </tr>\n",
       "    <tr>\n",
       "      <th>The dog barked at the cat.</th>\n",
       "      <td>0</td>\n",
       "      <td>0</td>\n",
       "      <td>1</td>\n",
       "      <td>1</td>\n",
       "      <td>0</td>\n",
       "      <td>0</td>\n",
       "      <td>1</td>\n",
       "      <td>1</td>\n",
       "      <td>0</td>\n",
       "      <td>0</td>\n",
       "      <td>0</td>\n",
       "      <td>0</td>\n",
       "      <td>0</td>\n",
       "      <td>0</td>\n",
       "      <td>0</td>\n",
       "      <td>0</td>\n",
       "      <td>1</td>\n",
       "    </tr>\n",
       "    <tr>\n",
       "      <th>The cat and the dog are friends.</th>\n",
       "      <td>1</td>\n",
       "      <td>1</td>\n",
       "      <td>0</td>\n",
       "      <td>0</td>\n",
       "      <td>0</td>\n",
       "      <td>0</td>\n",
       "      <td>1</td>\n",
       "      <td>1</td>\n",
       "      <td>0</td>\n",
       "      <td>1</td>\n",
       "      <td>0</td>\n",
       "      <td>0</td>\n",
       "      <td>0</td>\n",
       "      <td>0</td>\n",
       "      <td>0</td>\n",
       "      <td>0</td>\n",
       "      <td>1</td>\n",
       "    </tr>\n",
       "    <tr>\n",
       "      <th>Birds can fly high in the sky.</th>\n",
       "      <td>0</td>\n",
       "      <td>0</td>\n",
       "      <td>0</td>\n",
       "      <td>0</td>\n",
       "      <td>1</td>\n",
       "      <td>1</td>\n",
       "      <td>0</td>\n",
       "      <td>0</td>\n",
       "      <td>1</td>\n",
       "      <td>0</td>\n",
       "      <td>1</td>\n",
       "      <td>1</td>\n",
       "      <td>0</td>\n",
       "      <td>0</td>\n",
       "      <td>0</td>\n",
       "      <td>1</td>\n",
       "      <td>1</td>\n",
       "    </tr>\n",
       "  </tbody>\n",
       "</table>\n",
       "</div>"
      ],
      "text/plain": [
       "                                  and  are  at  barked  birds  can  cat  dog  \\\n",
       "The cat sat on the mat.             0    0   0       0      0    0    1    0   \n",
       "The dog barked at the cat.          0    0   1       1      0    0    1    1   \n",
       "The cat and the dog are friends.    1    1   0       0      0    0    1    1   \n",
       "Birds can fly high in the sky.      0    0   0       0      1    1    0    0   \n",
       "\n",
       "                                  fly  friends  high  in  mat  on  sat  sky  \\\n",
       "The cat sat on the mat.             0        0     0   0    1   1    1    0   \n",
       "The dog barked at the cat.          0        0     0   0    0   0    0    0   \n",
       "The cat and the dog are friends.    0        1     0   0    0   0    0    0   \n",
       "Birds can fly high in the sky.      1        0     1   1    0   0    0    1   \n",
       "\n",
       "                                  the  \n",
       "The cat sat on the mat.             1  \n",
       "The dog barked at the cat.          1  \n",
       "The cat and the dog are friends.    1  \n",
       "Birds can fly high in the sky.      1  "
      ]
     },
     "execution_count": 7,
     "metadata": {},
     "output_type": "execute_result"
    }
   ],
   "source": [
    "# print a dataframe of the one-hot encode\n",
    "\n",
    "pd.DataFrame(one_hot_encoded, columns=unique_words ,index=sentences)"
   ]
  },
  {
   "cell_type": "markdown",
   "id": "7e03d0cb-99f8-49d8-9460-b344c9e6b476",
   "metadata": {},
   "source": [
    " "
   ]
  },
  {
   "cell_type": "markdown",
   "id": "759d6fb2-8e08-4c50-9db8-df59dd1adb66",
   "metadata": {},
   "source": [
    " "
   ]
  },
  {
   "cell_type": "markdown",
   "id": "55c70843-a89b-4ab0-87cb-ec7df08d81e4",
   "metadata": {},
   "source": [
    "        _____________________________________________ End _____________________________________________"
   ]
  }
 ],
 "metadata": {
  "kernelspec": {
   "display_name": "Python 3 (ipykernel)",
   "language": "python",
   "name": "python3"
  },
  "language_info": {
   "codemirror_mode": {
    "name": "ipython",
    "version": 3
   },
   "file_extension": ".py",
   "mimetype": "text/x-python",
   "name": "python",
   "nbconvert_exporter": "python",
   "pygments_lexer": "ipython3",
   "version": "3.12.4"
  },
  "widgets": {
   "application/vnd.jupyter.widget-state+json": {
    "state": {},
    "version_major": 2,
    "version_minor": 0
   }
  }
 },
 "nbformat": 4,
 "nbformat_minor": 5
}

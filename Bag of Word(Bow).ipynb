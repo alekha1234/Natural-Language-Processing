{
 "cells": [
  {
   "cell_type": "markdown",
   "id": "225073f7-d477-44c8-a396-46b3925e11b2",
   "metadata": {},
   "source": [
    "<h1 style=\"color:DodgerBlue; text-align:center; font-weight:bold; font-size:50px; background-color:lightblue; padding:20px 20px\">Bag of Words (BoW)</h1>\n"
   ]
  },
  {
   "cell_type": "markdown",
   "id": "ea5f27e2-e7f6-419f-9a9b-a0f762da6172",
   "metadata": {},
   "source": [
    "<h2>Bag of Words (BoW) is a simple and widely used method to convert text into a numerical representation by counting the occurrence of each word in the document. This method does not consider the order of the words but only their frequency.</h2>"
   ]
  },
  {
   "cell_type": "code",
   "execution_count": 1,
   "id": "e652c15e-9234-4007-9934-a65facc23f45",
   "metadata": {},
   "outputs": [],
   "source": [
    "# import requirments\n",
    "import numpy as np\n",
    "import pandas as pd\n",
    "\n",
    "import string\n",
    "from nltk.tokenize import word_tokenize"
   ]
  },
  {
   "cell_type": "code",
   "execution_count": 2,
   "id": "32dca87a-e1c4-43dc-8735-4329c1b67d8e",
   "metadata": {},
   "outputs": [
    {
     "data": {
      "text/plain": [
       "['The cat sat on the mat.',\n",
       " 'The dog barked at the cat.',\n",
       " 'The cat and the dog are friends.',\n",
       " 'Birds can fly high in the sky.']"
      ]
     },
     "execution_count": 2,
     "metadata": {},
     "output_type": "execute_result"
    }
   ],
   "source": [
    "# take a sentence list \n",
    "sentences = [\n",
    "    \"The cat sat on the mat.\",\n",
    "    \"The dog barked at the cat.\",\n",
    "    \"The cat and the dog are friends.\",\n",
    "    \"Birds can fly high in the sky.\"\n",
    "]\n",
    "\n",
    "sentences"
   ]
  },
  {
   "cell_type": "markdown",
   "id": "f6831ab1-a59b-410e-a766-efe238f7e9f9",
   "metadata": {},
   "source": [
    "<h2 style=\"color:SlateBlue ; font-size:35px\">Manually Create a Bag of Word Representation</h2>"
   ]
  },
  {
   "cell_type": "code",
   "execution_count": 3,
   "id": "26742ebb-51ca-4d52-8000-72d3d082ae45",
   "metadata": {},
   "outputs": [
    {
     "data": {
      "text/plain": [
       "[['the', 'cat', 'sat', 'on', 'the', 'mat'],\n",
       " ['the', 'dog', 'barked', 'at', 'the', 'cat'],\n",
       " ['the', 'cat', 'and', 'the', 'dog', 'are', 'friends'],\n",
       " ['birds', 'can', 'fly', 'high', 'in', 'the', 'sky']]"
      ]
     },
     "execution_count": 3,
     "metadata": {},
     "output_type": "execute_result"
    }
   ],
   "source": [
    "# word Tokenize for each sentence if a word not in punctuations \n",
    "\n",
    "sentence_tokens = [\n",
    "    [word for word in word_tokenize(sentence.lower()) if word not in string.punctuation]\n",
    "    for sentence in sentences\n",
    "]\n",
    "\n",
    "sentence_tokens"
   ]
  },
  {
   "cell_type": "code",
   "execution_count": 4,
   "id": "39c0ed17-cd44-4c4c-9714-1d5ed1d033b8",
   "metadata": {},
   "outputs": [
    {
     "name": "stdout",
     "output_type": "stream",
     "text": [
      "['and', 'are', 'at', 'barked', 'birds', 'can', 'cat', 'dog', 'fly', 'friends', 'high', 'in', 'mat', 'on', 'sat', 'sky', 'the']\n"
     ]
    }
   ],
   "source": [
    "# create a vocabulary of unique words\n",
    "## vocabulary = set([word for token in sentence_tokens for word in token])  # ==> list compreshion\n",
    "\n",
    "# use a for loop\n",
    "vocabulary = set()\n",
    "for sent in sentence_tokens:\n",
    "    for word in sent:\n",
    "        if word not in vocabulary:\n",
    "            vocabulary.add(word)\n",
    "\n",
    "# arrange the vocabulary into sorted list\n",
    "vocabulary = sorted(vocabulary)\n",
    "print(vocabulary)"
   ]
  },
  {
   "cell_type": "code",
   "execution_count": 5,
   "id": "70b24a9c-7e7d-4411-84df-49a3a1fa7fb5",
   "metadata": {},
   "outputs": [
    {
     "data": {
      "text/plain": [
       "array([[0, 0, 0, 0, 0, 0, 0, 0, 0, 0, 0, 0, 0, 0, 0, 0, 0],\n",
       "       [0, 0, 0, 0, 0, 0, 0, 0, 0, 0, 0, 0, 0, 0, 0, 0, 0],\n",
       "       [0, 0, 0, 0, 0, 0, 0, 0, 0, 0, 0, 0, 0, 0, 0, 0, 0],\n",
       "       [0, 0, 0, 0, 0, 0, 0, 0, 0, 0, 0, 0, 0, 0, 0, 0, 0]])"
      ]
     },
     "execution_count": 5,
     "metadata": {},
     "output_type": "execute_result"
    }
   ],
   "source": [
    "# create a BOW representation of zeroes with shape of no.of sentence & no.of Vocabularies\n",
    "\n",
    "bow_mattrix = np.zeros(shape=(len(sentence_tokens) , len(vocabulary)) ,dtype='int')\n",
    "bow_mattrix"
   ]
  },
  {
   "cell_type": "code",
   "execution_count": 6,
   "id": "f9bf3870-2364-41ab-8d37-8e848823de6d",
   "metadata": {},
   "outputs": [
    {
     "data": {
      "text/plain": [
       "array([[0, 0, 0, 0, 0, 0, 1, 0, 0, 0, 0, 0, 1, 1, 1, 0, 2],\n",
       "       [0, 0, 1, 1, 0, 0, 1, 1, 0, 0, 0, 0, 0, 0, 0, 0, 2],\n",
       "       [1, 1, 0, 0, 0, 0, 1, 1, 0, 1, 0, 0, 0, 0, 0, 0, 2],\n",
       "       [0, 0, 0, 0, 1, 1, 0, 0, 1, 0, 1, 1, 0, 0, 0, 1, 1]])"
      ]
     },
     "execution_count": 6,
     "metadata": {},
     "output_type": "execute_result"
    }
   ],
   "source": [
    "# based on the frequency of word increase the count\n",
    "\n",
    "for i , sent in enumerate(sentence_tokens):\n",
    "    for word in sent:\n",
    "        if word in vocabulary:\n",
    "            bow_mattrix[i ,vocabulary.index(word)] += 1\n",
    "\n",
    "# print bow matrix\n",
    "bow_mattrix"
   ]
  },
  {
   "cell_type": "code",
   "execution_count": 7,
   "id": "d5f2f705-ef9c-42c4-9c7d-d28259eb2a2d",
   "metadata": {},
   "outputs": [
    {
     "data": {
      "text/html": [
       "<div>\n",
       "<style scoped>\n",
       "    .dataframe tbody tr th:only-of-type {\n",
       "        vertical-align: middle;\n",
       "    }\n",
       "\n",
       "    .dataframe tbody tr th {\n",
       "        vertical-align: top;\n",
       "    }\n",
       "\n",
       "    .dataframe thead th {\n",
       "        text-align: right;\n",
       "    }\n",
       "</style>\n",
       "<table border=\"1\" class=\"dataframe\">\n",
       "  <thead>\n",
       "    <tr style=\"text-align: right;\">\n",
       "      <th></th>\n",
       "      <th>and</th>\n",
       "      <th>are</th>\n",
       "      <th>at</th>\n",
       "      <th>barked</th>\n",
       "      <th>birds</th>\n",
       "      <th>can</th>\n",
       "      <th>cat</th>\n",
       "      <th>dog</th>\n",
       "      <th>fly</th>\n",
       "      <th>friends</th>\n",
       "      <th>high</th>\n",
       "      <th>in</th>\n",
       "      <th>mat</th>\n",
       "      <th>on</th>\n",
       "      <th>sat</th>\n",
       "      <th>sky</th>\n",
       "      <th>the</th>\n",
       "    </tr>\n",
       "  </thead>\n",
       "  <tbody>\n",
       "    <tr>\n",
       "      <th>The cat sat on the mat.</th>\n",
       "      <td>0</td>\n",
       "      <td>0</td>\n",
       "      <td>0</td>\n",
       "      <td>0</td>\n",
       "      <td>0</td>\n",
       "      <td>0</td>\n",
       "      <td>1</td>\n",
       "      <td>0</td>\n",
       "      <td>0</td>\n",
       "      <td>0</td>\n",
       "      <td>0</td>\n",
       "      <td>0</td>\n",
       "      <td>1</td>\n",
       "      <td>1</td>\n",
       "      <td>1</td>\n",
       "      <td>0</td>\n",
       "      <td>2</td>\n",
       "    </tr>\n",
       "    <tr>\n",
       "      <th>The dog barked at the cat.</th>\n",
       "      <td>0</td>\n",
       "      <td>0</td>\n",
       "      <td>1</td>\n",
       "      <td>1</td>\n",
       "      <td>0</td>\n",
       "      <td>0</td>\n",
       "      <td>1</td>\n",
       "      <td>1</td>\n",
       "      <td>0</td>\n",
       "      <td>0</td>\n",
       "      <td>0</td>\n",
       "      <td>0</td>\n",
       "      <td>0</td>\n",
       "      <td>0</td>\n",
       "      <td>0</td>\n",
       "      <td>0</td>\n",
       "      <td>2</td>\n",
       "    </tr>\n",
       "    <tr>\n",
       "      <th>The cat and the dog are friends.</th>\n",
       "      <td>1</td>\n",
       "      <td>1</td>\n",
       "      <td>0</td>\n",
       "      <td>0</td>\n",
       "      <td>0</td>\n",
       "      <td>0</td>\n",
       "      <td>1</td>\n",
       "      <td>1</td>\n",
       "      <td>0</td>\n",
       "      <td>1</td>\n",
       "      <td>0</td>\n",
       "      <td>0</td>\n",
       "      <td>0</td>\n",
       "      <td>0</td>\n",
       "      <td>0</td>\n",
       "      <td>0</td>\n",
       "      <td>2</td>\n",
       "    </tr>\n",
       "    <tr>\n",
       "      <th>Birds can fly high in the sky.</th>\n",
       "      <td>0</td>\n",
       "      <td>0</td>\n",
       "      <td>0</td>\n",
       "      <td>0</td>\n",
       "      <td>1</td>\n",
       "      <td>1</td>\n",
       "      <td>0</td>\n",
       "      <td>0</td>\n",
       "      <td>1</td>\n",
       "      <td>0</td>\n",
       "      <td>1</td>\n",
       "      <td>1</td>\n",
       "      <td>0</td>\n",
       "      <td>0</td>\n",
       "      <td>0</td>\n",
       "      <td>1</td>\n",
       "      <td>1</td>\n",
       "    </tr>\n",
       "  </tbody>\n",
       "</table>\n",
       "</div>"
      ],
      "text/plain": [
       "                                  and  are  at  barked  birds  can  cat  dog  \\\n",
       "The cat sat on the mat.             0    0   0       0      0    0    1    0   \n",
       "The dog barked at the cat.          0    0   1       1      0    0    1    1   \n",
       "The cat and the dog are friends.    1    1   0       0      0    0    1    1   \n",
       "Birds can fly high in the sky.      0    0   0       0      1    1    0    0   \n",
       "\n",
       "                                  fly  friends  high  in  mat  on  sat  sky  \\\n",
       "The cat sat on the mat.             0        0     0   0    1   1    1    0   \n",
       "The dog barked at the cat.          0        0     0   0    0   0    0    0   \n",
       "The cat and the dog are friends.    0        1     0   0    0   0    0    0   \n",
       "Birds can fly high in the sky.      1        0     1   1    0   0    0    1   \n",
       "\n",
       "                                  the  \n",
       "The cat sat on the mat.             2  \n",
       "The dog barked at the cat.          2  \n",
       "The cat and the dog are friends.    2  \n",
       "Birds can fly high in the sky.      1  "
      ]
     },
     "execution_count": 7,
     "metadata": {},
     "output_type": "execute_result"
    }
   ],
   "source": [
    "# for understanding , create a dataframe with index as sentences and columns a s vocabularies\n",
    "\n",
    "pd.DataFrame(data=bow_mattrix ,index=sentences , columns=vocabulary)"
   ]
  },
  {
   "cell_type": "markdown",
   "id": "e8bcff02-2c07-4e1d-a027-a9e25a0acd5f",
   "metadata": {},
   "source": [
    "<h2 style=\"color:SlateBlue ; font-size:35px\">Create BOW using sciket-learn CounterVectorizer</h2>"
   ]
  },
  {
   "cell_type": "code",
   "execution_count": 8,
   "id": "d0eed8a0-b068-4aca-9348-25c04a5f3bda",
   "metadata": {},
   "outputs": [
    {
     "data": {
      "text/plain": [
       "['The cat sat on the mat.',\n",
       " 'The dog barked at the cat.',\n",
       " 'The cat and the dog are friends.',\n",
       " 'Birds can fly high in the sky.']"
      ]
     },
     "execution_count": 8,
     "metadata": {},
     "output_type": "execute_result"
    }
   ],
   "source": [
    "sentences"
   ]
  },
  {
   "cell_type": "code",
   "execution_count": 9,
   "id": "254b9492-2e0a-4d29-9218-f1042ab4ac9b",
   "metadata": {},
   "outputs": [],
   "source": [
    "# import CounterVectorizer\n",
    "\n",
    "from sklearn.feature_extraction.text import CountVectorizer\n",
    "cv = CountVectorizer()\n",
    "\n",
    "BOW = cv.fit_transform(sentences)"
   ]
  },
  {
   "cell_type": "code",
   "execution_count": 10,
   "id": "8c0867f4-6c4b-4e6c-9054-b1ec661295bd",
   "metadata": {},
   "outputs": [
    {
     "name": "stdout",
     "output_type": "stream",
     "text": [
      "{'the': 16, 'cat': 6, 'sat': 14, 'on': 13, 'mat': 12, 'dog': 7, 'barked': 3, 'at': 2, 'and': 0, 'are': 1, 'friends': 9, 'birds': 4, 'can': 5, 'fly': 8, 'high': 10, 'in': 11, 'sky': 15}\n"
     ]
    }
   ],
   "source": [
    "# check counter vector vocabulary based on our input data\n",
    "\n",
    "print(cv.vocabulary_)"
   ]
  },
  {
   "cell_type": "code",
   "execution_count": 11,
   "id": "2a0eda23-0c4a-4859-92bc-638b8ab826db",
   "metadata": {},
   "outputs": [
    {
     "data": {
      "text/plain": [
       "['and',\n",
       " 'are',\n",
       " 'at',\n",
       " 'barked',\n",
       " 'birds',\n",
       " 'can',\n",
       " 'cat',\n",
       " 'dog',\n",
       " 'fly',\n",
       " 'friends',\n",
       " 'high',\n",
       " 'in',\n",
       " 'mat',\n",
       " 'on',\n",
       " 'sat',\n",
       " 'sky',\n",
       " 'the']"
      ]
     },
     "execution_count": 11,
     "metadata": {},
     "output_type": "execute_result"
    }
   ],
   "source": [
    "# get the list of vocabulary\n",
    "\n",
    "cv_vocabulary = sorted(cv.vocabulary_)\n",
    "cv_vocabulary"
   ]
  },
  {
   "cell_type": "code",
   "execution_count": 12,
   "id": "6cc1e9d0-a551-42e6-98e8-bab278e7d4d9",
   "metadata": {},
   "outputs": [
    {
     "data": {
      "text/plain": [
       "array([[0, 0, 0, 0, 0, 0, 1, 0, 0, 0, 0, 0, 1, 1, 1, 0, 2],\n",
       "       [0, 0, 1, 1, 0, 0, 1, 1, 0, 0, 0, 0, 0, 0, 0, 0, 2],\n",
       "       [1, 1, 0, 0, 0, 0, 1, 1, 0, 1, 0, 0, 0, 0, 0, 0, 2],\n",
       "       [0, 0, 0, 0, 1, 1, 0, 0, 1, 0, 1, 1, 0, 0, 0, 1, 1]])"
      ]
     },
     "execution_count": 12,
     "metadata": {},
     "output_type": "execute_result"
    }
   ],
   "source": [
    "# see the Bag of Word matrix\n",
    "\n",
    "cv_bow_matrix = BOW.toarray()\n",
    "cv_bow_matrix"
   ]
  },
  {
   "cell_type": "code",
   "execution_count": 13,
   "id": "7830a9bd-6ba1-4891-a4c5-c815d9b182a7",
   "metadata": {},
   "outputs": [
    {
     "data": {
      "text/html": [
       "<div>\n",
       "<style scoped>\n",
       "    .dataframe tbody tr th:only-of-type {\n",
       "        vertical-align: middle;\n",
       "    }\n",
       "\n",
       "    .dataframe tbody tr th {\n",
       "        vertical-align: top;\n",
       "    }\n",
       "\n",
       "    .dataframe thead th {\n",
       "        text-align: right;\n",
       "    }\n",
       "</style>\n",
       "<table border=\"1\" class=\"dataframe\">\n",
       "  <thead>\n",
       "    <tr style=\"text-align: right;\">\n",
       "      <th></th>\n",
       "      <th>and</th>\n",
       "      <th>are</th>\n",
       "      <th>at</th>\n",
       "      <th>barked</th>\n",
       "      <th>birds</th>\n",
       "      <th>can</th>\n",
       "      <th>cat</th>\n",
       "      <th>dog</th>\n",
       "      <th>fly</th>\n",
       "      <th>friends</th>\n",
       "      <th>high</th>\n",
       "      <th>in</th>\n",
       "      <th>mat</th>\n",
       "      <th>on</th>\n",
       "      <th>sat</th>\n",
       "      <th>sky</th>\n",
       "      <th>the</th>\n",
       "    </tr>\n",
       "  </thead>\n",
       "  <tbody>\n",
       "    <tr>\n",
       "      <th>The cat sat on the mat.</th>\n",
       "      <td>0</td>\n",
       "      <td>0</td>\n",
       "      <td>0</td>\n",
       "      <td>0</td>\n",
       "      <td>0</td>\n",
       "      <td>0</td>\n",
       "      <td>1</td>\n",
       "      <td>0</td>\n",
       "      <td>0</td>\n",
       "      <td>0</td>\n",
       "      <td>0</td>\n",
       "      <td>0</td>\n",
       "      <td>1</td>\n",
       "      <td>1</td>\n",
       "      <td>1</td>\n",
       "      <td>0</td>\n",
       "      <td>2</td>\n",
       "    </tr>\n",
       "    <tr>\n",
       "      <th>The dog barked at the cat.</th>\n",
       "      <td>0</td>\n",
       "      <td>0</td>\n",
       "      <td>1</td>\n",
       "      <td>1</td>\n",
       "      <td>0</td>\n",
       "      <td>0</td>\n",
       "      <td>1</td>\n",
       "      <td>1</td>\n",
       "      <td>0</td>\n",
       "      <td>0</td>\n",
       "      <td>0</td>\n",
       "      <td>0</td>\n",
       "      <td>0</td>\n",
       "      <td>0</td>\n",
       "      <td>0</td>\n",
       "      <td>0</td>\n",
       "      <td>2</td>\n",
       "    </tr>\n",
       "    <tr>\n",
       "      <th>The cat and the dog are friends.</th>\n",
       "      <td>1</td>\n",
       "      <td>1</td>\n",
       "      <td>0</td>\n",
       "      <td>0</td>\n",
       "      <td>0</td>\n",
       "      <td>0</td>\n",
       "      <td>1</td>\n",
       "      <td>1</td>\n",
       "      <td>0</td>\n",
       "      <td>1</td>\n",
       "      <td>0</td>\n",
       "      <td>0</td>\n",
       "      <td>0</td>\n",
       "      <td>0</td>\n",
       "      <td>0</td>\n",
       "      <td>0</td>\n",
       "      <td>2</td>\n",
       "    </tr>\n",
       "    <tr>\n",
       "      <th>Birds can fly high in the sky.</th>\n",
       "      <td>0</td>\n",
       "      <td>0</td>\n",
       "      <td>0</td>\n",
       "      <td>0</td>\n",
       "      <td>1</td>\n",
       "      <td>1</td>\n",
       "      <td>0</td>\n",
       "      <td>0</td>\n",
       "      <td>1</td>\n",
       "      <td>0</td>\n",
       "      <td>1</td>\n",
       "      <td>1</td>\n",
       "      <td>0</td>\n",
       "      <td>0</td>\n",
       "      <td>0</td>\n",
       "      <td>1</td>\n",
       "      <td>1</td>\n",
       "    </tr>\n",
       "  </tbody>\n",
       "</table>\n",
       "</div>"
      ],
      "text/plain": [
       "                                  and  are  at  barked  birds  can  cat  dog  \\\n",
       "The cat sat on the mat.             0    0   0       0      0    0    1    0   \n",
       "The dog barked at the cat.          0    0   1       1      0    0    1    1   \n",
       "The cat and the dog are friends.    1    1   0       0      0    0    1    1   \n",
       "Birds can fly high in the sky.      0    0   0       0      1    1    0    0   \n",
       "\n",
       "                                  fly  friends  high  in  mat  on  sat  sky  \\\n",
       "The cat sat on the mat.             0        0     0   0    1   1    1    0   \n",
       "The dog barked at the cat.          0        0     0   0    0   0    0    0   \n",
       "The cat and the dog are friends.    0        1     0   0    0   0    0    0   \n",
       "Birds can fly high in the sky.      1        0     1   1    0   0    0    1   \n",
       "\n",
       "                                  the  \n",
       "The cat sat on the mat.             2  \n",
       "The dog barked at the cat.          2  \n",
       "The cat and the dog are friends.    2  \n",
       "Birds can fly high in the sky.      1  "
      ]
     },
     "execution_count": 13,
     "metadata": {},
     "output_type": "execute_result"
    }
   ],
   "source": [
    "# to see the cv_vocabulary dataframe\n",
    "\n",
    "pd.DataFrame(data=cv_bow_matrix , index=sentences , columns=cv_vocabulary)"
   ]
  },
  {
   "cell_type": "markdown",
   "id": "9993ec4d-b0ff-4ffb-a011-f52e6a63c7cb",
   "metadata": {},
   "source": [
    "### Advantages of Bag of Words:\n",
    "- Simple and easy to understand.\n",
    "- Captures the frequency of words in the document.\n",
    "\n",
    "\n",
    "### Disadvantages of Bag of Words:\n",
    "- Ignores the order of words.\n",
    "- Can lead to a large and sparse representation if the vocabulary is large.\n",
    "- Does not capture semantic meaning or context of words."
   ]
  },
  {
   "cell_type": "markdown",
   "id": "639e81a6-d847-4384-8979-55fae0171baa",
   "metadata": {},
   "source": [
    " "
   ]
  },
  {
   "cell_type": "markdown",
   "id": "d17dffef-83f0-4f0b-a28c-5eaaf4c88d5e",
   "metadata": {},
   "source": [
    " "
   ]
  },
  {
   "cell_type": "markdown",
   "id": "f8e0c842-7866-45f2-a2c7-9a5d54623cbd",
   "metadata": {},
   "source": [
    "        _______________________________________________ End _______________________________________________"
   ]
  }
 ],
 "metadata": {
  "kernelspec": {
   "display_name": "Python 3 (ipykernel)",
   "language": "python",
   "name": "python3"
  },
  "language_info": {
   "codemirror_mode": {
    "name": "ipython",
    "version": 3
   },
   "file_extension": ".py",
   "mimetype": "text/x-python",
   "name": "python",
   "nbconvert_exporter": "python",
   "pygments_lexer": "ipython3",
   "version": "3.12.4"
  },
  "widgets": {
   "application/vnd.jupyter.widget-state+json": {
    "state": {},
    "version_major": 2,
    "version_minor": 0
   }
  }
 },
 "nbformat": 4,
 "nbformat_minor": 5
}
